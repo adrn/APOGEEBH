{
 "cells": [
  {
   "cell_type": "code",
   "execution_count": 1,
   "metadata": {},
   "outputs": [
    {
     "name": "stdout",
     "output_type": "stream",
     "text": [
      "[2018-06-08T13:20:29Z - WRN!] gzip > 1.5 not available, using Python (gun)zip support\n"
     ]
    }
   ],
   "source": [
    "import os\n",
    "from os import path\n",
    "from astropy.time import Time\n",
    "from astropy.io import fits, ascii\n",
    "import astropy.units as u\n",
    "from astropy.table import Table, QTable\n",
    "from astropy.constants import G\n",
    "import astropy.coordinates as coord\n",
    "from astropy.stats import LombScargle\n",
    "\n",
    "import numpy as np\n",
    "import matplotlib.pyplot as plt\n",
    "%matplotlib inline\n",
    "import h5py\n",
    "from sqlalchemy import func\n",
    "from sqlalchemy.orm.exc import NoResultFound\n",
    "from scipy.optimize import root\n",
    "from scipy.stats import scoreatpercentile\n",
    "import tqdm\n",
    "import schwimmbad\n",
    "from scipy.optimize import root\n",
    "import pandas as pd\n",
    "from scipy.signal import argrelmax\n",
    "\n",
    "from thejoker import JokerSamples\n",
    "from thejoker.sampler import JokerParams, TheJoker\n",
    "from thejoker.plot import plot_rv_curves\n",
    "\n",
    "from twoface.config import TWOFACE_CACHE_PATH\n",
    "from twoface.data import APOGEERVData\n",
    "from twoface.plot import plot_data_orbits, plot_two_panel, plot_phase_fold\n",
    "from twoface.mass import get_m2_min, mf, stellar_radius\n",
    "from twoface.samples_analysis import MAP_sample\n",
    "from twoface.ext import FileLoader\n",
    "from apogeebh.plot import plot_diag_panel"
   ]
  },
  {
   "cell_type": "code",
   "execution_count": 2,
   "metadata": {},
   "outputs": [],
   "source": [
    "asassn = ascii.read('/Users/adrian/Downloads/ASASSN-variables.csv')"
   ]
  },
  {
   "cell_type": "code",
   "execution_count": 11,
   "metadata": {},
   "outputs": [],
   "source": [
    "# from apogeebh.db import db_connect, AllStar, AllVisit, StarResult, Status\n",
    "# Session, _ = db_connect('../cache/apogeebh.sqlite')\n",
    "# cache_file = '../cache/apogeebh-joker.hdf5'\n",
    "\n",
    "from twoface.db import db_connect, AllStar, AllVisit, StarResult, Status\n",
    "Session, _ = db_connect('../../twoface/cache/apogee.sqlite')\n",
    "cache_file = '../../twoface/cache/apogee-jitter.hdf5'\n",
    "joker_pars = JokerParams(P_min=1*u.day, P_max=32768*u.day, jitter=150*u.m/u.s)\n",
    "\n",
    "session = Session()"
   ]
  },
  {
   "cell_type": "code",
   "execution_count": 4,
   "metadata": {},
   "outputs": [
    {
     "name": "stdout",
     "output_type": "stream",
     "text": [
      "96231\n",
      "100822\n"
     ]
    }
   ],
   "source": [
    "print(session.query(AllStar).join(StarResult).filter(StarResult.status_id > 0).count())\n",
    "print(session.query(AllStar).count())"
   ]
  },
  {
   "cell_type": "code",
   "execution_count": 5,
   "metadata": {},
   "outputs": [],
   "source": [
    "q = session.query(AllStar.apogee_id, AllStar.ra, AllStar.dec).join(StarResult).filter(StarResult.status_id > 0)\n",
    "stars = np.array(q.all(), \n",
    "                 dtype=[('apogee_id', 'U20'), ('ra', 'f8'), ('dec', 'f8')])"
   ]
  },
  {
   "cell_type": "code",
   "execution_count": 6,
   "metadata": {},
   "outputs": [],
   "source": [
    "star_c = coord.SkyCoord(ra=stars['ra']*u.deg, \n",
    "                        dec=stars['dec']*u.deg)"
   ]
  },
  {
   "cell_type": "code",
   "execution_count": 7,
   "metadata": {},
   "outputs": [],
   "source": [
    "asas_c = coord.SkyCoord(ra=asassn['Right Ascension']*u.deg, \n",
    "                        dec=asassn['Declination']*u.deg)"
   ]
  },
  {
   "cell_type": "code",
   "execution_count": 8,
   "metadata": {},
   "outputs": [],
   "source": [
    "idx, sep, _ = asas_c.match_to_catalog_sky(star_c)\n",
    "mask = (sep < 2*u.arcsec)"
   ]
  },
  {
   "cell_type": "code",
   "execution_count": 9,
   "metadata": {},
   "outputs": [
    {
     "data": {
      "text/plain": [
       "28"
      ]
     },
     "execution_count": 9,
     "metadata": {},
     "output_type": "execute_result"
    }
   ],
   "source": [
    "cross = asassn[mask].copy()\n",
    "len(cross)"
   ]
  },
  {
   "cell_type": "code",
   "execution_count": 10,
   "metadata": {},
   "outputs": [],
   "source": [
    "cross['APOGEE_ID'] = stars[idx[mask]]['apogee_id']"
   ]
  },
  {
   "cell_type": "code",
   "execution_count": 22,
   "metadata": {},
   "outputs": [],
   "source": [
    "os.makedirs('../plots/asas-sn-variable', exist_ok=True)"
   ]
  },
  {
   "cell_type": "code",
   "execution_count": 23,
   "metadata": {},
   "outputs": [],
   "source": [
    "with h5py.File(cache_file) as f:\n",
    "    for row in cross:\n",
    "        star = AllStar.get_apogee_id(session, row['APOGEE_ID'])\n",
    "        samples = JokerSamples.from_hdf5(f[star.apogee_id])\n",
    "        data = star.apogeervdata()\n",
    "        \n",
    "        fig = plot_diag_panel(data, samples, joker_params=joker_pars, M1=1.*u.Msun)\n",
    "        fig.axes[3].axvline(row['Period'])\n",
    "        fig.tight_layout()\n",
    "        \n",
    "        fig.savefig('../plots/asas-sn-variable/{0}.png'.format(star.apogee_id), dpi=250)\n",
    "        plt.close(fig)"
   ]
  },
  {
   "cell_type": "code",
   "execution_count": null,
   "metadata": {},
   "outputs": [],
   "source": [
    "https://asas-sn.osu.edu/uploads/database/light_curve/data_file/60696/lc113200.dat"
   ]
  },
  {
   "cell_type": "code",
   "execution_count": 26,
   "metadata": {},
   "outputs": [
    {
     "data": {
      "text/html": [
       "<i>Row index=27 masked=True</i>\n",
       "<table id=\"table4840019896\">\n",
       "<thead><tr><th>ASAS-SN Name</th><th>Other Names</th><th>LC Number</th><th>Right Ascension</th><th>Declination</th><th>Mean Mag</th><th>Amplitude</th><th>Period</th><th>Type</th><th>Url</th><th>APOGEE_ID</th></tr></thead>\n",
       "<thead><tr><th>str28</th><th>int64</th><th>int64</th><th>float64</th><th>float64</th><th>float64</th><th>float64</th><th>float64</th><th>str7</th><th>str28</th><th>str20</th></tr></thead>\n",
       "<tr><td>ASASSN-V J061849.81-021300.6</td><td>--</td><td>566664</td><td>94.70754</td><td>-2.21684</td><td>13.75</td><td>0.47</td><td>64.7</td><td>SR</td><td>/database/light_curves/60431</td><td>2M06184980-0213006</td></tr>\n",
       "</table>"
      ],
      "text/plain": [
       "<Row index=27 masked=True>\n",
       "        ASAS-SN Name         Other Names LC Number Right Ascension Declination Mean Mag Amplitude  Period Type             Url                  APOGEE_ID     \n",
       "           str28                int64      int64       float64       float64   float64   float64  float64 str7            str28                   str20       \n",
       "---------------------------- ----------- --------- --------------- ----------- -------- --------- ------- ---- ---------------------------- ------------------\n",
       "ASASSN-V J061849.81-021300.6          --    566664        94.70754    -2.21684    13.75      0.47    64.7   SR /database/light_curves/60431 2M06184980-0213006"
      ]
     },
     "execution_count": 26,
     "metadata": {},
     "output_type": "execute_result"
    }
   ],
   "source": [
    "row"
   ]
  },
  {
   "cell_type": "code",
   "execution_count": 42,
   "metadata": {},
   "outputs": [],
   "source": [
    "import time\n",
    "import urllib"
   ]
  },
  {
   "cell_type": "code",
   "execution_count": 34,
   "metadata": {},
   "outputs": [],
   "source": [
    "fmt_url = 'https://asas-sn.osu.edu/uploads/database/light_curve/data_file/{0}/lc{1}.dat'"
   ]
  },
  {
   "cell_type": "code",
   "execution_count": 43,
   "metadata": {},
   "outputs": [
    {
     "name": "stderr",
     "output_type": "stream",
     "text": [
      "WARNING: AstropyDeprecationWarning: ../asas-sn-variable/2M21092753+0905286-rv.csv already exists. Automatically overwriting ASCII files is deprecated. Use the argument 'overwrite=True' in the future. [astropy.io.ascii.ui]\n"
     ]
    }
   ],
   "source": [
    "apw_P = []\n",
    "apw_P_err = []\n",
    "apw_e = []\n",
    "apw_e_err = []\n",
    "with h5py.File(cache_file) as f:\n",
    "    for row in cross:\n",
    "        star = AllStar.get_apogee_id(session, row['APOGEE_ID'])\n",
    "        samples = JokerSamples.from_hdf5(f[star.apogee_id])\n",
    "        data = star.apogeervdata()\n",
    "        \n",
    "        url = fmt_url.format(path.split(row['Url'])[-1], row['LC Number'])\n",
    "        urllib.request.urlretrieve(url, '../asas-sn-variable/{0}-lc.dat'.format(row['APOGEE_ID']))\n",
    "        \n",
    "        lnP = np.log(samples['P'].to(u.day).value)\n",
    "        i = np.abs(lnP - np.log(row['Period'])).argmin()\n",
    "        idx = np.abs(lnP - lnP[i]) < 0.2\n",
    "        apw_P.append(np.median(samples['P'][idx]))\n",
    "        apw_P_err.append(np.std(samples['P'][idx]))\n",
    "        apw_e.append(np.median(samples['e'][idx]))\n",
    "        apw_e_err.append(np.std(samples['e'][idx]))\n",
    "        jitter = np.median(samples[idx]['jitter'])\n",
    "        \n",
    "        rvdata = Table()\n",
    "        rvdata['t'] = data.t.tcb.mjd\n",
    "        rvdata['rv'] = data.rv.to(u.km/u.s).value\n",
    "        rvdata['rv_err'] = np.sqrt(data.stddev**2 + jitter**2).to(u.km/u.s).value\n",
    "        rvdata.write('../asas-sn-variable/{0}-rv.csv'.format(row['APOGEE_ID']))\n",
    "        \n",
    "        time.sleep(0.5)\n",
    "        \n",
    "apw_P = u.Quantity(apw_P)\n",
    "apw_P_err = u.Quantity(apw_P_err)\n",
    "apw_e = u.Quantity(apw_e)\n",
    "apw_e_err = u.Quantity(apw_e_err)"
   ]
  },
  {
   "cell_type": "code",
   "execution_count": 48,
   "metadata": {},
   "outputs": [],
   "source": [
    "cross['APW_P'] = apw_P.value\n",
    "cross['APW_P_err'] = apw_P_err.value\n",
    "cross['APW_e'] = apw_e\n",
    "cross['APW_e_err'] = apw_e_err"
   ]
  },
  {
   "cell_type": "code",
   "execution_count": 50,
   "metadata": {},
   "outputs": [],
   "source": [
    "cross.write('../asas-sn-variable/catalog.csv')"
   ]
  },
  {
   "cell_type": "code",
   "execution_count": null,
   "metadata": {},
   "outputs": [],
   "source": []
  }
 ],
 "metadata": {
  "kernelspec": {
   "display_name": "Python [conda env:twoface]",
   "language": "python",
   "name": "conda-env-twoface-py"
  },
  "language_info": {
   "codemirror_mode": {
    "name": "ipython",
    "version": 3
   },
   "file_extension": ".py",
   "mimetype": "text/x-python",
   "name": "python",
   "nbconvert_exporter": "python",
   "pygments_lexer": "ipython3",
   "version": "3.6.2"
  }
 },
 "nbformat": 4,
 "nbformat_minor": 2
}
