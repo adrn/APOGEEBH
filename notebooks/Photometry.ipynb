{
 "cells": [
  {
   "cell_type": "code",
   "execution_count": null,
   "metadata": {},
   "outputs": [],
   "source": [
    "import glob\n",
    "import os\n",
    "from os import path\n",
    "\n",
    "# Third-party\n",
    "import astropy.coordinates as coord\n",
    "from astropy.constants import G\n",
    "from astropy.io import fits, ascii\n",
    "from astropy.table import Table, QTable, join\n",
    "import astropy.units as u\n",
    "import matplotlib as mpl\n",
    "import matplotlib.pyplot as plt\n",
    "from matplotlib.gridspec import GridSpec\n",
    "import numpy as np\n",
    "%matplotlib inline\n",
    "import tqdm\n",
    "import h5py\n",
    "import yaml\n",
    "\n",
    "from astropy.modeling.blackbody import blackbody_lambda, blackbody_nu\n",
    "from astroquery.vizier import Vizier\n",
    "\n",
    "from thejoker import JokerSamples\n",
    "from twoface.ext import FileLoader\n",
    "from twoface.mass import asini, a2sini, stellar_radius, get_m2_min, mf"
   ]
  },
  {
   "cell_type": "code",
   "execution_count": null,
   "metadata": {},
   "outputs": [],
   "source": [
    "cache_path = '../data/candidates/cache'"
   ]
  },
  {
   "cell_type": "markdown",
   "metadata": {},
   "source": [
    "Catalogs we should query:\n",
    "* Galex\n",
    "* PS1\n",
    "* WISE"
   ]
  },
  {
   "cell_type": "code",
   "execution_count": null,
   "metadata": {},
   "outputs": [],
   "source": [
    "sheet = FileLoader.GoogleSheets('1z0ukn8QWJL7dTrPdCFWlhQ6r-X-kwiA4z0YRqalZsY4', 1633658731)\n",
    "candidates = sheet.load()"
   ]
  },
  {
   "cell_type": "code",
   "execution_count": null,
   "metadata": {},
   "outputs": [],
   "source": [
    "allstar = fits.getdata('/Users/adrian/data/APOGEE_DR15beta/allStar-t9-l31c-58158.fits')\n",
    "rc = fits.getdata('/Users/adrian/data/APOGEE_DR14/apogee-rc-DR14.fits')\n",
    "ness = fits.getdata('/Users/adrian/projects/twoface/data/NessRG.fits')\n",
    "\n",
    "allstar = Table(allstar[np.isin(allstar['APOGEE_ID'], candidates['APOGEE_ID'])])\n",
    "rc = Table(rc[np.isin(rc['APOGEE_ID'], candidates['APOGEE_ID'])])\n",
    "\n",
    "ness = Table(ness[np.isin(ness['2MASS'], candidates['APOGEE_ID'])])\n",
    "ness.rename_column('2MASS', 'APOGEE_ID')"
   ]
  },
  {
   "cell_type": "code",
   "execution_count": null,
   "metadata": {},
   "outputs": [],
   "source": [
    "c = coord.SkyCoord(ra=allstar['RA']*u.deg, dec=allstar['DEC']*u.deg)\n",
    "allstar['l'] = c.galactic.l.degree\n",
    "allstar['b'] = c.galactic.b.degree\n",
    "allstar['ecl_l'] = c.barycentrictrueecliptic.lon.degree\n",
    "allstar['ecl_b'] = c.barycentrictrueecliptic.lat.degree"
   ]
  },
  {
   "cell_type": "code",
   "execution_count": null,
   "metadata": {},
   "outputs": [],
   "source": [
    "tmp = join(candidates[['APOGEE_ID']], allstar, join_type='left', keys='APOGEE_ID')\n",
    "_, idx = np.unique(tmp['APOGEE_ID'], return_index=True)\n",
    "tmp = tmp[idx][['APOGEE_ID', 'RA', 'DEC', 'l', 'b', 'ecl_l', 'ecl_b', \n",
    "                'LOGG', 'LOGG_ERR', 'TEFF', 'TEFF_ERR', 'M_H', 'M_H_ERR']]\n",
    "assert np.all(tmp['APOGEE_ID'] == sorted(candidates['APOGEE_ID']))\n",
    "\n",
    "tmp = join(tmp, rc[['APOGEE_ID', 'RC_DIST']], join_type='left', keys='APOGEE_ID')\n",
    "tmp = join(tmp, ness[['APOGEE_ID', 'lnM', 'lnAge', 'e_logM', 'e_logAge']], \n",
    "           join_type='left', keys='APOGEE_ID')"
   ]
  },
  {
   "cell_type": "code",
   "execution_count": null,
   "metadata": {},
   "outputs": [],
   "source": [
    "tmp.write('../data/tmp.csv')"
   ]
  },
  {
   "cell_type": "code",
   "execution_count": null,
   "metadata": {},
   "outputs": [],
   "source": [
    "for col in tmp.colnames:\n",
    "    tmp[col][tmp[col] == -9999] = np.nan"
   ]
  },
  {
   "cell_type": "code",
   "execution_count": null,
   "metadata": {},
   "outputs": [],
   "source": [
    "v = Vizier(columns=[\"*\", \"+_r\"], catalog=\"II/349/ps1\")"
   ]
  },
  {
   "cell_type": "code",
   "execution_count": null,
   "metadata": {},
   "outputs": [],
   "source": [
    "c = coord.SkyCoord(ra=line['RA']*u.deg, dec=line['DEC']*u.deg)"
   ]
  },
  {
   "cell_type": "code",
   "execution_count": null,
   "metadata": {},
   "outputs": [],
   "source": [
    "line"
   ]
  },
  {
   "cell_type": "code",
   "execution_count": null,
   "metadata": {},
   "outputs": [],
   "source": [
    "c"
   ]
  },
  {
   "cell_type": "code",
   "execution_count": null,
   "metadata": {},
   "outputs": [],
   "source": [
    "for tbl in v.query_region(c, radius=2*u.arcsec):\n",
    "    print(tbl)"
   ]
  },
  {
   "cell_type": "code",
   "execution_count": null,
   "metadata": {},
   "outputs": [],
   "source": [
    "tmp"
   ]
  },
  {
   "cell_type": "code",
   "execution_count": null,
   "metadata": {},
   "outputs": [],
   "source": []
  },
  {
   "cell_type": "code",
   "execution_count": null,
   "metadata": {},
   "outputs": [],
   "source": [
    "x = np.linspace(2000*u.Angstrom, 5*u.micron, 10000)\n",
    "Blambda = blackbody_lambda(x, 5500*u.Kelvin)"
   ]
  },
  {
   "cell_type": "code",
   "execution_count": null,
   "metadata": {},
   "outputs": [],
   "source": [
    "plt.plot(x, x*Blambda, marker='')"
   ]
  },
  {
   "cell_type": "code",
   "execution_count": null,
   "metadata": {},
   "outputs": [],
   "source": []
  },
  {
   "cell_type": "code",
   "execution_count": null,
   "metadata": {},
   "outputs": [],
   "source": []
  },
  {
   "cell_type": "code",
   "execution_count": null,
   "metadata": {},
   "outputs": [],
   "source": [
    "# from astroquery.mast import Catalogs\n",
    "# mast_tbl = Catalogs.query_region(\"83.46395 26.425833\", radius=10*u.arcsec)\n",
    "# mast_tbl"
   ]
  },
  {
   "cell_type": "code",
   "execution_count": null,
   "metadata": {},
   "outputs": [],
   "source": [
    "job = tap.launch_job('''SELECT TOP 100 * FROM \"II/312/ais\" WHERE 1=CONTAINS(POINT('ICRS',\"II/312/ais\".RAJ2000,\"II/312/ais\".DEJ2000), CIRCLE('ICRS', {0.ra.degree}, {0.dec.degree}, 10/3600.))'''.format(c))"
   ]
  },
  {
   "cell_type": "code",
   "execution_count": null,
   "metadata": {},
   "outputs": [],
   "source": [
    "job.get_results()"
   ]
  },
  {
   "cell_type": "code",
   "execution_count": null,
   "metadata": {
    "collapsed": true
   },
   "outputs": [],
   "source": []
  },
  {
   "cell_type": "code",
   "execution_count": null,
   "metadata": {},
   "outputs": [],
   "source": [
    "for c in all_c:\n",
    "    mast_tbl = Catalogs.query_region(c, radius=10*u.arcsec)\n",
    "    break"
   ]
  },
  {
   "cell_type": "code",
   "execution_count": null,
   "metadata": {},
   "outputs": [],
   "source": [
    "Catalogs.q"
   ]
  },
  {
   "cell_type": "code",
   "execution_count": null,
   "metadata": {},
   "outputs": [],
   "source": [
    "c.ra.degree, c.dec.degree"
   ]
  },
  {
   "cell_type": "code",
   "execution_count": null,
   "metadata": {},
   "outputs": [],
   "source": [
    "mast_tbl"
   ]
  },
  {
   "cell_type": "code",
   "execution_count": null,
   "metadata": {
    "collapsed": true
   },
   "outputs": [],
   "source": []
  }
 ],
 "metadata": {
  "kernelspec": {
   "display_name": "Python [conda env:twoface]",
   "language": "python",
   "name": "conda-env-twoface-py"
  },
  "language_info": {
   "codemirror_mode": {
    "name": "ipython",
    "version": 3
   },
   "file_extension": ".py",
   "mimetype": "text/x-python",
   "name": "python",
   "nbconvert_exporter": "python",
   "pygments_lexer": "ipython3",
   "version": "3.6.2"
  }
 },
 "nbformat": 4,
 "nbformat_minor": 2
}