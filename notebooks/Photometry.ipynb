{
 "cells": [
  {
   "cell_type": "code",
   "execution_count": null,
   "metadata": {},
   "outputs": [],
   "source": [
    "import glob\n",
    "import os\n",
    "from os import path\n",
    "\n",
    "# Third-party\n",
    "import astropy.coordinates as coord\n",
    "from astropy.constants import G\n",
    "from astropy.io import fits, ascii\n",
    "from astropy.table import Table, QTable, join\n",
    "import astropy.units as u\n",
    "import matplotlib as mpl\n",
    "import matplotlib.pyplot as plt\n",
    "from matplotlib.gridspec import GridSpec\n",
    "import numpy as np\n",
    "%matplotlib inline\n",
    "import tqdm\n",
    "import h5py\n",
    "import yaml\n",
    "\n",
    "from astroquery.mast import Catalogs\n",
    "\n",
    "from thejoker import JokerSamples\n",
    "from twoface.ext import FileLoader\n",
    "from twoface.mass import asini, a2sini, stellar_radius, get_m2_min, mf"
   ]
  },
  {
   "cell_type": "code",
   "execution_count": null,
   "metadata": {},
   "outputs": [],
   "source": [
    "cache_path = '../data/candidates/cache'"
   ]
  },
  {
   "cell_type": "markdown",
   "metadata": {},
   "source": [
    "Catalogs we should query:\n",
    "* Galex\n",
    "* PS1\n",
    "* WISE"
   ]
  },
  {
   "cell_type": "code",
   "execution_count": null,
   "metadata": {},
   "outputs": [],
   "source": [
    "allstar = fits.getdata('/Users/adrian/data/APOGEE_DR15beta/allStar-t9-l31c-58158.fits')"
   ]
  },
  {
   "cell_type": "code",
   "execution_count": null,
   "metadata": {},
   "outputs": [],
   "source": [
    "sheet = FileLoader.GoogleSheets('1z0ukn8QWJL7dTrPdCFWlhQ6r-X-kwiA4z0YRqalZsY4', 1633658731)\n",
    "candidates = sheet.load()"
   ]
  },
  {
   "cell_type": "code",
   "execution_count": null,
   "metadata": {},
   "outputs": [],
   "source": [
    "omg = ['2M00444105+8351358',\n",
    "       '2M04015112+5316431',\n",
    "       '2M05121632+4558157',\n",
    "       '2M05335134+2625329',\n",
    "       '2M06185816+4002167']"
   ]
  },
  {
   "cell_type": "code",
   "execution_count": null,
   "metadata": {},
   "outputs": [],
   "source": [
    "nsamples = 10000\n",
    "for row in candidates[np.isin(candidates['APOGEE_ID'], omg)]:\n",
    "    apogee_id = row['APOGEE_ID']\n",
    "    star = allstar[allstar['APOGEE_ID'] == apogee_id]\n",
    "    samples_fn = path.join(cache_path, '{0}-joker.hdf5'.format(apogee_id))\n",
    "    with h5py.File(samples_fn) as f:\n",
    "        samples = JokerSamples.from_hdf5(f)\n",
    "    c = coord.SkyCoord(ra=row['RA']*u.deg, \n",
    "                   dec=row['DEC']*u.deg)\n",
    "                        \n",
    "    print('{0}:'.format(row['APOGEE_ID']))\n",
    "    print('\\t{0.ra.degree:.6f} {0.dec.degree:.6f}'.format(c))\n",
    "    \n",
    "    if star['LOGG'][0] < 0: continue\n",
    "        \n",
    "    logg = np.random.normal(star['LOGG'][0], star['LOGG_ERR'][0], size=nsamples)\n",
    "    M1 = np.random.normal(row['M1'], 0.1, nsamples) * u.Msun # MAGIC NUMBER\n",
    "    R1 = stellar_radius(logg, M1).to(u.au)\n",
    "    \n",
    "    mfs = mf(samples['P'], samples['K'], samples['e'])\n",
    "    M2 = get_m2_min(np.repeat(M1[:, None], len(mfs), axis=1).ravel(),\n",
    "                    np.repeat(mfs[None], len(M1), axis=0).ravel())\n",
    "    M2 = M2.reshape(nsamples, len(samples))\n",
    "    a2_min = a2sini(samples['P'][None], samples['e'][None], samples['K'][None], \n",
    "                    M1[:, None], M2)\n",
    "    a_min = asini(samples['P'][None], samples['e'][None], samples['K'][None], \n",
    "                  M1[:, None], M2)\n",
    "    q = M2 / M1[:, None]\n",
    "    R_a = 0.49 * (q**(-2/3)) / (0.6 * q**(-2/3) + np.log(1 + q**(-1/3)))\n",
    "    \n",
    "    print('\\tM1 = {:.2f}'.format(row['M1']*u.Msun))\n",
    "    print('\\tM2sini = {:.2f} +/- {:.2f}'.format(np.median(M2), np.std(M2)))\n",
    "    print('\\tR1 = {:.3f} +/- {:.3f}'.format(np.median(R1), np.std(R1)))\n",
    "    print('\\ta2sini = {:.2f} +/- {:.2f}'.format(np.median(a2_min), \n",
    "                                                np.std(a2_min)))\n",
    "    print('\\t[Fe/H] = {:.3f} +/- {:.3f}'.format(star['M_H'][0], star['M_H_ERR'][0]))\n",
    "    print('\\tRoche R/a = {:.2f}, R1/asini = {:.2f}'.format(np.median(R_a), np.median(R1[:, None] / a_min)))\n",
    "    print('')"
   ]
  },
  {
   "cell_type": "code",
   "execution_count": null,
   "metadata": {},
   "outputs": [],
   "source": [
    "from astropy.table import QTable\n",
    "from thejoker import RVData\n",
    "from twoface.samples_analysis import unimodal_P\n",
    "def load_data_ecsv(fn):\n",
    "    tbl = QTable.read(fn)\n",
    "    data = RVData(t=tbl['time'],\n",
    "                  rv=tbl['rv'],\n",
    "                  stddev=tbl['rv_err'])\n",
    "    return data, tbl['source']\n",
    "\n",
    "for row in candidates:\n",
    "    apogee_id = row['APOGEE_ID']\n",
    "    samples_fn = path.join(cache_path, '{0}-joker.hdf5'.format(apogee_id))\n",
    "    data_fn = path.join('../data/candidates/{0}.ecsv'.format(apogee_id))\n",
    "    with h5py.File(samples_fn) as f:\n",
    "        samples = JokerSamples.from_hdf5(f)\n",
    "        \n",
    "    data, _ = load_data_ecsv(data_fn)\n",
    "    \n",
    "    print(apogee_id, unimodal_P(samples, data))"
   ]
  },
  {
   "cell_type": "code",
   "execution_count": null,
   "metadata": {},
   "outputs": [],
   "source": [
    "# from astroquery.mast import Catalogs\n",
    "# mast_tbl = Catalogs.query_region(\"83.46395 26.425833\", radius=10*u.arcsec)\n",
    "# mast_tbl"
   ]
  },
  {
   "cell_type": "code",
   "execution_count": null,
   "metadata": {},
   "outputs": [],
   "source": [
    "job = tap.launch_job('''SELECT TOP 100 * FROM \"II/312/ais\" WHERE 1=CONTAINS(POINT('ICRS',\"II/312/ais\".RAJ2000,\"II/312/ais\".DEJ2000), CIRCLE('ICRS', {0.ra.degree}, {0.dec.degree}, 10/3600.))'''.format(c))"
   ]
  },
  {
   "cell_type": "code",
   "execution_count": null,
   "metadata": {},
   "outputs": [],
   "source": [
    "job.get_results()"
   ]
  },
  {
   "cell_type": "code",
   "execution_count": null,
   "metadata": {
    "collapsed": true
   },
   "outputs": [],
   "source": []
  },
  {
   "cell_type": "code",
   "execution_count": null,
   "metadata": {},
   "outputs": [],
   "source": [
    "for c in all_c:\n",
    "    mast_tbl = Catalogs.query_region(c, radius=10*u.arcsec)\n",
    "    break"
   ]
  },
  {
   "cell_type": "code",
   "execution_count": null,
   "metadata": {},
   "outputs": [],
   "source": [
    "Catalogs.q"
   ]
  },
  {
   "cell_type": "code",
   "execution_count": null,
   "metadata": {},
   "outputs": [],
   "source": [
    "c.ra.degree, c.dec.degree"
   ]
  },
  {
   "cell_type": "code",
   "execution_count": null,
   "metadata": {},
   "outputs": [],
   "source": [
    "mast_tbl"
   ]
  },
  {
   "cell_type": "code",
   "execution_count": null,
   "metadata": {
    "collapsed": true
   },
   "outputs": [],
   "source": []
  }
 ],
 "metadata": {
  "kernelspec": {
   "display_name": "Python [conda env:twoface]",
   "language": "python",
   "name": "conda-env-twoface-py"
  },
  "language_info": {
   "codemirror_mode": {
    "name": "ipython",
    "version": 3
   },
   "file_extension": ".py",
   "mimetype": "text/x-python",
   "name": "python",
   "nbconvert_exporter": "python",
   "pygments_lexer": "ipython3",
   "version": "3.6.4"
  }
 },
 "nbformat": 4,
 "nbformat_minor": 2
}