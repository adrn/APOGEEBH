{
 "cells": [
  {
   "cell_type": "code",
   "execution_count": null,
   "metadata": {},
   "outputs": [],
   "source": [
    "import glob\n",
    "import os\n",
    "from os import path\n",
    "\n",
    "# Third-party\n",
    "from astropy.constants import G\n",
    "from astropy.io import fits, ascii\n",
    "from astropy.stats import median_absolute_deviation\n",
    "from astropy.table import Table, QTable, join\n",
    "import astropy.units as u\n",
    "import matplotlib as mpl\n",
    "import matplotlib.pyplot as plt\n",
    "from matplotlib.gridspec import GridSpec\n",
    "import numpy as np\n",
    "%matplotlib inline\n",
    "import tqdm\n",
    "from scipy.stats import beta, binned_statistic\n",
    "import h5py\n",
    "import yaml\n",
    "\n",
    "from thejoker import JokerParams, JokerSamples, RVData\n",
    "\n",
    "from twoface.samples_analysis import MAP_sample\n",
    "from twoface.plot import plot_two_panel, plot_phase_fold, plot_data_orbits, plot_phase_fold_residual\n",
    "from twoface.mass import get_m2_min\n",
    "from twoface.ext import FileLoader\n",
    "from twoface.util import config_to_jokerparams\n",
    "\n",
    "from apogeebh.plot import plot_diag_panel"
   ]
  },
  {
   "cell_type": "code",
   "execution_count": null,
   "metadata": {},
   "outputs": [],
   "source": [
    "data_files = glob.glob('../data/candidates/*.ecsv')\n",
    "cache_path = ('../data/candidates/cache/')"
   ]
  },
  {
   "cell_type": "code",
   "execution_count": null,
   "metadata": {},
   "outputs": [],
   "source": [
    "with open('../config/bh.yml', 'r') as f:\n",
    "    config = yaml.load(f.read())\n",
    "joker_pars = config_to_jokerparams(config)"
   ]
  },
  {
   "cell_type": "code",
   "execution_count": null,
   "metadata": {},
   "outputs": [],
   "source": [
    "sheet = FileLoader.GoogleSheets('1z0ukn8QWJL7dTrPdCFWlhQ6r-X-kwiA4z0YRqalZsY4', 1633658731)\n",
    "candidates = sheet.load()"
   ]
  },
  {
   "cell_type": "code",
   "execution_count": null,
   "metadata": {},
   "outputs": [],
   "source": [
    "def load_data_ecsv(fn):\n",
    "    tbl = QTable.read(fn)\n",
    "    data = RVData(t=tbl['time'],\n",
    "                  rv=tbl['rv'],\n",
    "                  stddev=tbl['rv_err'])\n",
    "    return data, tbl['source']"
   ]
  },
  {
   "cell_type": "code",
   "execution_count": null,
   "metadata": {
    "scrolled": false
   },
   "outputs": [],
   "source": [
    "for data_fn in sorted(data_files):\n",
    "    apogee_id = path.splitext(path.basename(data_fn))[0]\n",
    "    # if apogee_id != '2M12162218+0504296': continue\n",
    "    samples_fn = path.join(cache_path, '{0}-joker.hdf5'.format(apogee_id))\n",
    "    \n",
    "    if apogee_id not in candidates['APOGEE_ID']:\n",
    "        continue\n",
    "        \n",
    "    M1 = candidates[candidates['APOGEE_ID'] == apogee_id]['M1'] * u.Msun\n",
    "    \n",
    "    data, src = load_data_ecsv(data_fn)\n",
    "    with h5py.File(samples_fn) as f:\n",
    "        samples = JokerSamples.from_hdf5(f)\n",
    "    \n",
    "    print(apogee_id)\n",
    "    fig = plot_diag_panel(data, samples, M1=M1, joker_params=joker_pars, data_src=src)\n",
    "    fig.tight_layout()\n",
    "    fig.savefig('../plots/{0}-joker.png'.format(apogee_id), dpi=250)\n",
    "    plt.close(fig)"
   ]
  },
  {
   "cell_type": "code",
   "execution_count": null,
   "metadata": {},
   "outputs": [],
   "source": []
  }
 ],
 "metadata": {
  "kernelspec": {
   "display_name": "Python [conda env:twoface]",
   "language": "python",
   "name": "conda-env-twoface-py"
  },
  "language_info": {
   "codemirror_mode": {
    "name": "ipython",
    "version": 3
   },
   "file_extension": ".py",
   "mimetype": "text/x-python",
   "name": "python",
   "nbconvert_exporter": "python",
   "pygments_lexer": "ipython3",
   "version": "3.6.2"
  }
 },
 "nbformat": 4,
 "nbformat_minor": 2
}