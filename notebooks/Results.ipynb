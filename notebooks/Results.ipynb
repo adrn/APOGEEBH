{
 "cells": [
  {
   "cell_type": "code",
   "execution_count": null,
   "metadata": {},
   "outputs": [],
   "source": [
    "import glob\n",
    "import os\n",
    "from os import path\n",
    "\n",
    "# Third-party\n",
    "from astropy.constants import G\n",
    "from astropy.io import fits, ascii\n",
    "from astropy.stats import median_absolute_deviation\n",
    "from astropy.table import Table, QTable, join\n",
    "import astropy.units as u\n",
    "import matplotlib as mpl\n",
    "import matplotlib.pyplot as plt\n",
    "from matplotlib.gridspec import GridSpec\n",
    "import numpy as np\n",
    "%matplotlib inline\n",
    "import tqdm\n",
    "from scipy.stats import beta, binned_statistic\n",
    "import h5py\n",
    "import yaml\n",
    "\n",
    "from thejoker import JokerParams, JokerSamples, RVData\n",
    "\n",
    "from twoface.samples_analysis import MAP_sample\n",
    "from twoface.plot import plot_two_panel, plot_phase_fold, plot_data_orbits, plot_phase_fold_residual\n",
    "from twoface.mass import get_m2_min\n",
    "from twoface.ext import FileLoader\n",
    "from twoface.util import config_to_jokerparams"
   ]
  },
  {
   "cell_type": "code",
   "execution_count": null,
   "metadata": {},
   "outputs": [],
   "source": [
    "data_files = glob.glob('../data/candidates/*.ecsv')\n",
    "cache_path = ('../data/candidates/cache/')"
   ]
  },
  {
   "cell_type": "code",
   "execution_count": null,
   "metadata": {},
   "outputs": [],
   "source": [
    "with open('../config/bh.yml', 'r') as f:\n",
    "    config = yaml.load(f.read())\n",
    "joker_pars = config_to_jokerparams(config)"
   ]
  },
  {
   "cell_type": "code",
   "execution_count": null,
   "metadata": {},
   "outputs": [],
   "source": [
    "sheet = FileLoader.GoogleSheets('1z0ukn8QWJL7dTrPdCFWlhQ6r-X-kwiA4z0YRqalZsY4', 1633658731)\n",
    "candidates = sheet.load()"
   ]
  },
  {
   "cell_type": "code",
   "execution_count": null,
   "metadata": {},
   "outputs": [],
   "source": [
    "def load_data_ecsv(fn):\n",
    "    tbl = QTable.read(fn)\n",
    "    data = RVData(t=tbl['time'],\n",
    "                  rv=tbl['rv'],\n",
    "                  stddev=tbl['rv_err'])\n",
    "    return data, tbl['source']"
   ]
  },
  {
   "cell_type": "code",
   "execution_count": null,
   "metadata": {},
   "outputs": [],
   "source": [
    "def plot_diag_panel(data, samples, data_src):\n",
    "    # Compute things we'll need in plots:\n",
    "    M2_mins = []\n",
    "    for i in range(min(len(samples), 256)):\n",
    "        orb = samples.get_orbit(i)\n",
    "        M2_mins.append(get_m2_min(M1, orb.m_f))\n",
    "    M2_mins = u.Quantity(M2_mins)\n",
    "    \n",
    "    # Now make the plot!\n",
    "    fig = plt.figure(figsize=(9, 10))\n",
    "    gs = GridSpec(3, 5)\n",
    "    \n",
    "    ax1 = fig.add_subplot(gs[0, :])\n",
    "    colormap = dict(DR15='k', LAMOST='tab:orange', Keck='tab:green')\n",
    "    plot_data_orbits_kw = dict()\n",
    "    plot_data_orbits_kw.setdefault('xlim_choice', 'tight')\n",
    "    plot_data_orbits_kw.setdefault('highlight_P_extrema', False)\n",
    "    plot_data_orbits(data, samples, ax=ax1, n_times=16384, **plot_data_orbits_kw)\n",
    "    for src in np.unique(data_src):\n",
    "        sub_data = data[data_src == src]\n",
    "        sub_data.plot(ax=ax1, markerfacecolor='none', markeredgewidth=1, \n",
    "                      markeredgecolor=colormap[src], label=src)\n",
    "    ax1.legend(loc='best')\n",
    "    \n",
    "    # ---\n",
    "    sample = MAP_sample(data, samples, joker_pars)\n",
    "    axes2 = [fig.add_subplot(gs[1, 0:3]), \n",
    "             fig.add_subplot(gs[2, 0:3])]\n",
    "    plot_phase_fold_residual(data, sample, axes=axes2)\n",
    "    # plt.setp(axes2[0].get_xticklabels(), visible=False)\n",
    "    \n",
    "    # ---\n",
    "    ax3 = fig.add_subplot(gs[1, 3:])\n",
    "    ax3.scatter(samples['P'].to(u.day).value, samples['e'], \n",
    "                marker='o', linewidth=0, alpha=0.5)\n",
    "    ax3.set_xlim(0.8, 2500)\n",
    "    ax3.set_xscale('log')\n",
    "    ax3.set_ylim(0, 1)\n",
    "    ax3.set_ylabel('$e$')\n",
    "    # plt.setp(ax3.get_xticklabels(), visible=False)\n",
    "    \n",
    "    # ---\n",
    "    ax4 = fig.add_subplot(gs[2, 3:])\n",
    "    ax4.scatter(samples['P'].to(u.day).value[:len(M2_mins)], M2_mins.value,\n",
    "                marker='o', linewidth=0, alpha=0.5)\n",
    "    ax4.set_xlim(0.8, 2500)\n",
    "    ax4.set_xscale('log')\n",
    "    ax4.set_yscale('log')\n",
    "    ax4.set_ylim(1E-2, 1E2)\n",
    "    ax4.axhline(1., zorder=-10, color='#cccccc')\n",
    "    ax4.axhline(M1.value, zorder=-1, color='tab:green', alpha=0.5, label='$M_1$', marker='')\n",
    "    ax4.legend(loc='best')\n",
    "    ax4.set_ylabel(r'$M_{2,{\\rm min}}$' + ' [{0:latex_inline}]'.format(u.Msun))\n",
    "    ax4.set_xlabel('$P$ [day]')\n",
    "    \n",
    "    for ax in [ax3, ax4]:\n",
    "        ax.xaxis.set_ticks(10**np.arange(0, 3+0.1, 1))\n",
    "        ax.yaxis.tick_right()\n",
    "        ax.yaxis.set_label_position(\"right\")\n",
    "    \n",
    "    return fig"
   ]
  },
  {
   "cell_type": "code",
   "execution_count": null,
   "metadata": {
    "scrolled": false
   },
   "outputs": [],
   "source": [
    "for data_fn in sorted(data_files):\n",
    "    if '0618' not in data_fn: continue\n",
    "    apogee_id = path.splitext(path.basename(data_fn))[0]\n",
    "    samples_fn = path.join(cache_path, '{0}-joker.hdf5'.format(apogee_id))\n",
    "    \n",
    "    if apogee_id not in candidates['APOGEE_ID']:\n",
    "        continue\n",
    "        \n",
    "    M1 = candidates[candidates['APOGEE_ID'] == apogee_id]['M1'] * u.Msun\n",
    "    \n",
    "    data, src = load_data_ecsv(data_fn)\n",
    "    with h5py.File(samples_fn) as f:\n",
    "        samples = JokerSamples.from_hdf5(f)\n",
    "    \n",
    "    fig = plot_diag_panel(data, samples, src)\n",
    "    fig.tight_layout()\n",
    "    fig.savefig('../plots/{0}-joker.png'.format(apogee_id), dpi=250)\n",
    "    plt.close(fig)"
   ]
  },
  {
   "cell_type": "code",
   "execution_count": null,
   "metadata": {},
   "outputs": [],
   "source": []
  }
 ],
 "metadata": {
  "kernelspec": {
   "display_name": "Python [conda env:twoface]",
   "language": "python",
   "name": "conda-env-twoface-py"
  },
  "language_info": {
   "codemirror_mode": {
    "name": "ipython",
    "version": 3
   },
   "file_extension": ".py",
   "mimetype": "text/x-python",
   "name": "python",
   "nbconvert_exporter": "python",
   "pygments_lexer": "ipython3",
   "version": "3.6.2"
  }
 },
 "nbformat": 4,
 "nbformat_minor": 2
}