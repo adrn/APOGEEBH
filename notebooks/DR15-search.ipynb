{
 "cells": [
  {
   "cell_type": "code",
   "execution_count": null,
   "metadata": {},
   "outputs": [],
   "source": [
    "import os\n",
    "from os import path\n",
    "from astropy.time import Time\n",
    "from astropy.io import fits, ascii\n",
    "import astropy.units as u\n",
    "from astropy.table import Table, QTable\n",
    "from astropy.constants import G\n",
    "\n",
    "import numpy as np\n",
    "import matplotlib.pyplot as plt\n",
    "%matplotlib inline\n",
    "import h5py\n",
    "from sqlalchemy import func\n",
    "from sqlalchemy.orm.exc import NoResultFound\n",
    "from scipy.optimize import root\n",
    "from scipy.stats import scoreatpercentile\n",
    "import tqdm\n",
    "import schwimmbad\n",
    "from scipy.optimize import root\n",
    "import pandas as pd\n",
    "\n",
    "from thejoker import JokerSamples\n",
    "from thejoker.sampler import JokerParams, TheJoker\n",
    "from thejoker.plot import plot_rv_curves\n",
    "\n",
    "from twoface.config import TWOFACE_CACHE_PATH\n",
    "from twoface.data import APOGEERVData\n",
    "from twoface.plot import plot_data_orbits, plot_two_panel\n",
    "from twoface.mass import get_m2_min, mf\n",
    "from twoface.ext import FileLoader\n",
    "\n",
    "from apogeebh.db import db_connect, AllStar, AllVisit, StarResult, Status\n",
    "from apogeebh.plot import plot_diag_panel"
   ]
  },
  {
   "cell_type": "code",
   "execution_count": null,
   "metadata": {},
   "outputs": [],
   "source": [
    "joker_pars = JokerParams(P_min=1 * u.day,\n",
    "                         P_max=1024 * u.day,\n",
    "                         jitter=150 * u.m/u.s)"
   ]
  },
  {
   "cell_type": "code",
   "execution_count": null,
   "metadata": {},
   "outputs": [],
   "source": [
    "sheet = FileLoader.GoogleSheets('1z0ukn8QWJL7dTrPdCFWlhQ6r-X-kwiA4z0YRqalZsY4', 1633658731)\n",
    "dr14_candidates = sheet.load()"
   ]
  },
  {
   "cell_type": "code",
   "execution_count": null,
   "metadata": {},
   "outputs": [],
   "source": [
    "Session, _ = db_connect('../cache/apogeebh.sqlite')\n",
    "session = Session()\n",
    "\n",
    "cache_file = '../cache/apogeebh-joker.hdf5'"
   ]
  },
  {
   "cell_type": "code",
   "execution_count": null,
   "metadata": {},
   "outputs": [],
   "source": [
    "for i in range(5):\n",
    "    n = session.query(AllStar).join(StarResult).filter(StarResult.status_id == i).count()\n",
    "    print('status={0}: {1}'.format(i, n))"
   ]
  },
  {
   "cell_type": "code",
   "execution_count": null,
   "metadata": {},
   "outputs": [],
   "source": [
    "m1 = 1.3*u.Msun\n",
    "m2_cut = 1.4*u.Msun\n",
    "\n",
    "apogee_ids = []\n",
    "m2_filter = []\n",
    "with h5py.File(cache_file, 'r') as f:\n",
    "    for apogee_id in tqdm.tqdm(f):\n",
    "        star = AllStar.get_apogee_id(session, apogee_id)\n",
    "        samples = JokerSamples.from_hdf5(f[apogee_id])\n",
    "            \n",
    "        mfs = mf(samples['P'], samples['K'], samples['e'])\n",
    "        m1s = [m1.value]*len(mfs) * m1.unit\n",
    "        m2_min = get_m2_min(m1s, mfs)\n",
    "        m2_mask = np.percentile(m2_min.value, 15)*m2_min.unit > m2_cut\n",
    "\n",
    "        apogee_ids.append(apogee_id)\n",
    "        m2_filter.append(m2_mask)\n",
    "\n",
    "m2_filter = np.array(m2_filter)\n",
    "apogee_ids = np.array(apogee_ids)"
   ]
  },
  {
   "cell_type": "code",
   "execution_count": null,
   "metadata": {},
   "outputs": [],
   "source": [
    "new_candidates = apogee_ids[(~np.isin(apogee_ids, dr14_candidates['APOGEE_ID'])) & m2_filter]\n",
    "m2_filter.sum(), len(new_candidates)"
   ]
  },
  {
   "cell_type": "code",
   "execution_count": null,
   "metadata": {},
   "outputs": [],
   "source": [
    "with h5py.File(cache_file, 'r') as f:\n",
    "    for apogee_id in tqdm.tqdm(new_candidates):\n",
    "        star = AllStar.get_apogee_id(session, apogee_id)\n",
    "        data = star.apogeervdata()\n",
    "        samples = JokerSamples.from_hdf5(f[apogee_id])\n",
    "        \n",
    "        fig = plot_diag_panel(data, samples, M1=m1, \n",
    "                              joker_params=joker_pars)\n",
    "        fig.axes[0].set_title(r'{0} ($\\log g = {1}$)'\n",
    "                              .format(star.apogee_id, star.logg))\n",
    "        fig.tight_layout()\n",
    "        fig.savefig('../plots/dr15-candidates/{0}.png'.format(apogee_id), dpi=250)\n",
    "        plt.close(fig)"
   ]
  },
  {
   "cell_type": "code",
   "execution_count": null,
   "metadata": {},
   "outputs": [],
   "source": [
    "np.savetxt('../cache/dr15-candidates.txt', new_candidates, fmt='%s')"
   ]
  },
  {
   "cell_type": "code",
   "execution_count": null,
   "metadata": {},
   "outputs": [],
   "source": []
  }
 ],
 "metadata": {
  "kernelspec": {
   "display_name": "Python [conda env:twoface]",
   "language": "python",
   "name": "conda-env-twoface-py"
  },
  "language_info": {
   "codemirror_mode": {
    "name": "ipython",
    "version": 3
   },
   "file_extension": ".py",
   "mimetype": "text/x-python",
   "name": "python",
   "nbconvert_exporter": "python",
   "pygments_lexer": "ipython3",
   "version": "3.6.4"
  }
 },
 "nbformat": 4,
 "nbformat_minor": 2
}