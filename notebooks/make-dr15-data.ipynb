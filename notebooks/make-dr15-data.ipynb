{
 "cells": [
  {
   "cell_type": "code",
   "execution_count": null,
   "metadata": {},
   "outputs": [],
   "source": [
    "import os\n",
    "from os import path\n",
    "from astropy.time import Time\n",
    "from astropy.io import fits, ascii\n",
    "import astropy.units as u\n",
    "from astropy.table import Table, QTable\n",
    "from astropy.constants import G\n",
    "\n",
    "import numpy as np\n",
    "import matplotlib.pyplot as plt\n",
    "%matplotlib inline\n",
    "import h5py\n",
    "from sqlalchemy import func\n",
    "from sqlalchemy.orm.exc import NoResultFound\n",
    "from scipy.optimize import root\n",
    "from scipy.stats import scoreatpercentile\n",
    "import tqdm\n",
    "import schwimmbad\n",
    "from scipy.optimize import root\n",
    "\n",
    "from thejoker import JokerSamples\n",
    "from thejoker.sampler import JokerParams, TheJoker\n",
    "from thejoker.plot import plot_rv_curves\n",
    "\n",
    "from twoface.config import TWOFACE_CACHE_PATH\n",
    "from twoface.db import (db_connect, AllStar, AllVisit, AllVisitToAllStar, \n",
    "                        StarResult, Status, JokerRun, initialize_db)\n",
    "from twoface.data import APOGEERVData\n",
    "from twoface.plot import plot_data_orbits\n",
    "from twoface.ext import FileLoader"
   ]
  },
  {
   "cell_type": "code",
   "execution_count": null,
   "metadata": {},
   "outputs": [],
   "source": [
    "Session, _ = db_connect(path.join(TWOFACE_CACHE_PATH, 'apogee.sqlite'))\n",
    "session = Session()\n",
    "\n",
    "samples_file = path.join(TWOFACE_CACHE_PATH, 'apogee-jitter.hdf5')\n",
    "mcmc_samples_file = path.join(TWOFACE_CACHE_PATH, 'apogee-jitter-mcmc.hdf5')"
   ]
  },
  {
   "cell_type": "code",
   "execution_count": null,
   "metadata": {},
   "outputs": [],
   "source": [
    "allvisit_dr14 = fits.getdata('/Users/adrian/data/APOGEE_DR14/allVisit-l31c.2.fits')"
   ]
  },
  {
   "cell_type": "code",
   "execution_count": null,
   "metadata": {},
   "outputs": [],
   "source": [
    "allvisit = fits.getdata('/Users/adrian/data/APOGEE_DR15beta/allVisit-t9-l31c-58104.fits')\n",
    "allstar = fits.getdata('/Users/adrian/data/APOGEE_DR15beta/allStar-t9-l31c-58104.fits')"
   ]
  },
  {
   "cell_type": "code",
   "execution_count": null,
   "metadata": {},
   "outputs": [],
   "source": [
    "sheet = FileLoader.GoogleSheets('1z0ukn8QWJL7dTrPdCFWlhQ6r-X-kwiA4z0YRqalZsY4', 1633658731)\n",
    "candidates = sheet.load()\n",
    "candidates[10]"
   ]
  },
  {
   "cell_type": "code",
   "execution_count": null,
   "metadata": {},
   "outputs": [],
   "source": [
    "dr14_t = Time('2016-07-01')"
   ]
  },
  {
   "cell_type": "code",
   "execution_count": null,
   "metadata": {
    "scrolled": false
   },
   "outputs": [],
   "source": [
    "with h5py.File(samples_file) as f:\n",
    "    for apogee_id in candidates['APOGEE_ID']:\n",
    "        print(apogee_id)\n",
    "        try:\n",
    "            star = AllStar.get_apogee_id(session, apogee_id)\n",
    "            dr14_data = star.apogeervdata()\n",
    "            samples = JokerSamples.from_hdf5(f[apogee_id])\n",
    "        except NoResultFound:\n",
    "            dr14_data = APOGEERVData.from_visits(allvisit_dr14[allvisit_dr14['APOGEE_ID'] == apogee_id])\n",
    "            samples = None\n",
    "            \n",
    "        visits = allvisit[allvisit['APOGEE_ID'] == apogee_id]\n",
    "        visits = visits[visits['VRELERR'] < 100.]\n",
    "        dr15_data = APOGEERVData.from_visits(visits)\n",
    "        \n",
    "        tbl = QTable()\n",
    "        tbl['time'] = dr15_data.t\n",
    "        tbl['rv'] = dr15_data.rv\n",
    "        tbl['rv_err'] = dr15_data.stddev\n",
    "        tbl.write('../../data/bh-candidates/{0}.ecsv'.format(apogee_id), format='ascii.ecsv')\n",
    "        \n",
    "        h = np.ptp(dr15_data.t.mjd)\n",
    "        tgrid = np.linspace(dr15_data.t.mjd.min()-0.1*h,\n",
    "                            dr15_data.t.mjd.max()+0.1*h,\n",
    "                            4096)\n",
    "        \n",
    "        fig, ax = plt.subplots(1, 1, figsize=(8, 6))\n",
    "        dr14_data.plot(ax=ax, color='tab:red', markersize=6)\n",
    "        dr15_data.plot(ax=ax, color='k', markersize=4)\n",
    "        if samples is not None:\n",
    "            _ = plot_rv_curves(samples, tgrid, n_plot=128, ax=ax, \n",
    "                               plot_kwargs=dict(color='tab:blue', linewidth=1))\n",
    "        ax.set_title(apogee_id)\n",
    "        fig.tight_layout()\n",
    "        fig.savefig('../../plots/for-marla/{0}-dr14-dr15.pdf'.format(apogee_id))"
   ]
  },
  {
   "cell_type": "code",
   "execution_count": null,
   "metadata": {},
   "outputs": [],
   "source": []
  }
 ],
 "metadata": {
  "kernelspec": {
   "display_name": "Python [conda env:twoface]",
   "language": "python",
   "name": "conda-env-twoface-py"
  },
  "language_info": {
   "codemirror_mode": {
    "name": "ipython",
    "version": 3
   },
   "file_extension": ".py",
   "mimetype": "text/x-python",
   "name": "python",
   "nbconvert_exporter": "python",
   "pygments_lexer": "ipython3",
   "version": "3.6.2"
  }
 },
 "nbformat": 4,
 "nbformat_minor": 2
}